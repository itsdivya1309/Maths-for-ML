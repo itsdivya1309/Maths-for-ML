{
 "cells": [
  {
   "cell_type": "code",
   "execution_count": 1,
   "id": "ebda1153",
   "metadata": {},
   "outputs": [],
   "source": [
    "import numpy as np\n",
    "import scipy.linalg as la"
   ]
  },
  {
   "cell_type": "code",
   "execution_count": 2,
   "id": "9de56df7",
   "metadata": {},
   "outputs": [
    {
     "name": "stdout",
     "output_type": "stream",
     "text": [
      "--------------A--------------\n",
      "[[2. 1. 0.]\n",
      " [1. 2. 1.]\n",
      " [0. 1. 2.]]\n",
      "--------------L--------------\n",
      "[[1.         0.         0.        ]\n",
      " [0.5        1.         0.        ]\n",
      " [0.         0.66666667 1.        ]]\n",
      "--------------U--------------\n",
      "[[2.         1.         0.        ]\n",
      " [0.         1.5        1.        ]\n",
      " [0.         0.         1.33333333]]\n"
     ]
    }
   ],
   "source": [
    "A = np.array([[2, 1, 0],[1, 2, 1],[0, 1, 2]])\n",
    "\n",
    "L = np.array([[1, 0, 0],[1/2, 1, 0],[0, 2/3, 1]])\n",
    "U = np.array([[2, 1, 0],[0, 3/2, 1],[0, 0, 4/3]])\n",
    "print('--------------A--------------')\n",
    "print(L.dot(U))\n",
    "print('--------------L--------------')\n",
    "print(L)\n",
    "print('--------------U--------------')\n",
    "print(U)"
   ]
  },
  {
   "cell_type": "markdown",
   "id": "54ec7654",
   "metadata": {},
   "source": [
    "We can solve the system by solving two back-substitution problems:\n",
    "\n",
    "                                Ly=b\n",
    "and\n",
    "\n",
    "                                Ux=y\n",
    "These are both **O(n2)**, so it is more efficient to decompose when there are multiple outcomes to solve for."
   ]
  },
  {
   "cell_type": "code",
   "execution_count": 3,
   "id": "52f27642",
   "metadata": {},
   "outputs": [
    {
     "name": "stdout",
     "output_type": "stream",
     "text": [
      "---------P---------\n",
      "[[1. 0. 0.]\n",
      " [0. 1. 0.]\n",
      " [0. 0. 1.]]\n",
      "---------L---------\n",
      "[[1.         0.         0.        ]\n",
      " [0.5        1.         0.        ]\n",
      " [0.         0.66666667 1.        ]]\n",
      "---------U---------\n",
      "[[2.         1.         0.        ]\n",
      " [0.         1.5        1.        ]\n",
      " [0.         0.         1.33333333]]\n"
     ]
    }
   ],
   "source": [
    "P, L, U = la.lu(A)\n",
    "\n",
    "print('---------P---------')\n",
    "print(P)\n",
    "print('---------L---------')\n",
    "print(L)\n",
    "print('---------U---------')\n",
    "print(U)"
   ]
  },
  {
   "cell_type": "markdown",
   "id": "0d139f28",
   "metadata": {},
   "source": [
    "The numpy decomposition uses partial pivoting (matrix rows are permuted to use the largest pivot). This is because small pivots can lead to numerical instability."
   ]
  },
  {
   "cell_type": "code",
   "execution_count": null,
   "id": "4c386e4c",
   "metadata": {},
   "outputs": [],
   "source": []
  }
 ],
 "metadata": {
  "kernelspec": {
   "display_name": "Python 3 (ipykernel)",
   "language": "python",
   "name": "python3"
  },
  "language_info": {
   "codemirror_mode": {
    "name": "ipython",
    "version": 3
   },
   "file_extension": ".py",
   "mimetype": "text/x-python",
   "name": "python",
   "nbconvert_exporter": "python",
   "pygments_lexer": "ipython3",
   "version": "3.10.12"
  }
 },
 "nbformat": 4,
 "nbformat_minor": 5
}
