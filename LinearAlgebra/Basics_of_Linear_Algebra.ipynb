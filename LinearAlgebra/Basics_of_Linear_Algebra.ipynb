{
  "nbformat": 4,
  "nbformat_minor": 0,
  "metadata": {
    "colab": {
      "provenance": [],
      "collapsed_sections": [
        "TjvA8uTxArWF",
        "YldQ_BqSOH1y",
        "ckNNwdw7Qnzq"
      ],
      "authorship_tag": "ABX9TyPjbd8alZmvccvUKNkayyhe",
      "include_colab_link": true
    },
    "kernelspec": {
      "name": "python3",
      "display_name": "Python 3"
    },
    "language_info": {
      "name": "python"
    }
  },
  "cells": [
    {
      "cell_type": "markdown",
      "metadata": {
        "id": "view-in-github",
        "colab_type": "text"
      },
      "source": [
        "<a href=\"https://colab.research.google.com/github/itsdivya1309/Maths-for-ML/blob/main/LinearAlgebra/Basics_of_Linear_Algebra.ipynb\" target=\"_parent\"><img src=\"https://colab.research.google.com/assets/colab-badge.svg\" alt=\"Open In Colab\"/></a>"
      ]
    },
    {
      "cell_type": "markdown",
      "source": [
        "## Vectors\n",
        "\n",
        "The set Rn is the set of all n-tuples of real numbers. In set notation this is\n",
        "\n",
        "`Rn={(x1,x2,x3,⋯,xn):x1,x2,x3,⋯,xn∈R}`\n",
        "\n",
        "For example, the set R3\n",
        "represents the set of real triples, (x,y,z)coordinates, in three-dimensional space.\n",
        "\n",
        "A vector in Rn is an n-tuple, or point, in Rn."
      ],
      "metadata": {
        "id": "ukjGedxP_H6y"
      }
    },
    {
      "cell_type": "code",
      "execution_count": 2,
      "metadata": {
        "colab": {
          "base_uri": "https://localhost:8080/"
        },
        "id": "tiv_cfHT-s8A",
        "outputId": "58822db3-effa-4e77-de51-4cb12d9a1a85"
      },
      "outputs": [
        {
          "output_type": "stream",
          "name": "stdout",
          "text": [
            "Shape of row vector:  (1, 4)\n",
            "Shape of column vector:  (4, 1)\n"
          ]
        }
      ],
      "source": [
        "import numpy as np\n",
        "\n",
        "row_vector = np.array([[1,-4,3,19]])\n",
        "col_vector = np.array([[1],\n",
        "                       [-2],\n",
        "                       [13],\n",
        "                        [0]])\n",
        "print('Shape of row vector: ',row_vector.shape)\n",
        "print('Shape of column vector: ',col_vector.shape)"
      ]
    },
    {
      "cell_type": "code",
      "source": [
        "row_vector"
      ],
      "metadata": {
        "colab": {
          "base_uri": "https://localhost:8080/"
        },
        "id": "GPpgXjNBAO2E",
        "outputId": "2d900416-ec66-4a02-8363-525d6bbf5c12"
      },
      "execution_count": 3,
      "outputs": [
        {
          "output_type": "execute_result",
          "data": {
            "text/plain": [
              "array([[ 1, -4,  3, 19]])"
            ]
          },
          "metadata": {},
          "execution_count": 3
        }
      ]
    },
    {
      "cell_type": "code",
      "source": [
        "col_vector"
      ],
      "metadata": {
        "colab": {
          "base_uri": "https://localhost:8080/"
        },
        "id": "WS8VIiMQAfPq",
        "outputId": "63d65a05-6009-4afb-8cc3-a73739155530"
      },
      "execution_count": 4,
      "outputs": [
        {
          "output_type": "execute_result",
          "data": {
            "text/plain": [
              "array([[ 1],\n",
              "       [-2],\n",
              "       [13],\n",
              "       [ 0]])"
            ]
          },
          "metadata": {},
          "execution_count": 4
        }
      ]
    },
    {
      "cell_type": "code",
      "source": [
        "vec = np.array([1,2,3,0])\n",
        "vec.shape"
      ],
      "metadata": {
        "colab": {
          "base_uri": "https://localhost:8080/"
        },
        "id": "isi5UIGYAg26",
        "outputId": "b568e997-efb2-4d19-d003-4d9dd9bd4691"
      },
      "execution_count": 5,
      "outputs": [
        {
          "output_type": "execute_result",
          "data": {
            "text/plain": [
              "(4,)"
            ]
          },
          "metadata": {},
          "execution_count": 5
        }
      ]
    },
    {
      "cell_type": "code",
      "source": [
        "vec"
      ],
      "metadata": {
        "colab": {
          "base_uri": "https://localhost:8080/"
        },
        "id": "0ejyfYHhAmB3",
        "outputId": "2a6417ea-84e5-4779-ac89-ec4d56334d52"
      },
      "execution_count": 6,
      "outputs": [
        {
          "output_type": "execute_result",
          "data": {
            "text/plain": [
              "array([1, 2, 3, 0])"
            ]
          },
          "metadata": {},
          "execution_count": 6
        }
      ]
    },
    {
      "cell_type": "markdown",
      "source": [
        "### Vector norm\n",
        "\n",
        "The norm of a vector is a measure of its length.\n",
        "\n",
        "* The **L1 norm** is calculated as the\n",
        "sum of the absolute values of the vector.\n",
        "\n",
        "This length is sometimes called the taxicab norm or the **Manhattan norm**.\n",
        "\n",
        "```\n",
        "L1(v) = ||v||1 = |a1| + |a2| + |a3|\n",
        "```\n",
        "\n",
        "\n",
        "* The **L2 norm** is calculated as the square root of the sum of the squared vector values.\n",
        "\n",
        "It is also known as the **Euclidean norm** as it is calculated as the Euclidean distance from the origin.\n",
        "\n",
        "```\n",
        "l2(v) = ||v||2 = sqrt(a1^2 + a2^2 + a3^2)\n",
        "```\n",
        "\n",
        "\n",
        "* The **max norm** that is calculated as the maximum vector values.\n",
        "\n",
        "It is also called infinity norm.\n",
        "\n",
        "```\n",
        "maxnorm(v) = ||v||inf = max(|a1|, |a2|, |a3|)\n",
        "```\n",
        "\n"
      ],
      "metadata": {
        "id": "TjvA8uTxArWF"
      }
    },
    {
      "cell_type": "code",
      "source": [
        "from numpy.linalg import norm\n",
        "\n",
        "new_vector = row_vector.T\n",
        "print(\"Transpose of row vector: \\n\", new_vector)\n",
        "\n",
        "norm1 = norm(new_vector,1)\n",
        "norm2 = norm(new_vector,2)\n",
        "max_norm = norm(new_vector, np.inf)\n",
        "\n",
        "print('L1 norm is: %.1f'%norm1)\n",
        "print('L2 norm is: %.1f'%norm2)\n",
        "print('L_inf norm is: %.1f'%max_norm)"
      ],
      "metadata": {
        "colab": {
          "base_uri": "https://localhost:8080/"
        },
        "id": "kRmKf85GAoy3",
        "outputId": "a080dc0a-5851-4346-a406-5b390e953410"
      },
      "execution_count": 8,
      "outputs": [
        {
          "output_type": "stream",
          "name": "stdout",
          "text": [
            "Transpose of row vector: \n",
            " [[ 1]\n",
            " [-4]\n",
            " [ 3]\n",
            " [19]]\n",
            "L1 norm is: 27.0\n",
            "L2 norm is: 19.7\n",
            "L_inf norm is: 19.0\n"
          ]
        }
      ]
    },
    {
      "cell_type": "markdown",
      "source": [
        "### Dot product\n",
        "\n",
        "\n",
        "The dot product of two vectors is the sum of the product of the respective elements in each vector and is denoted by ⋅, and v⋅w\n",
        "```\n",
        "v⋅w=∥v∥2∥w∥2cosθ\n",
        "```"
      ],
      "metadata": {
        "id": "YldQ_BqSOH1y"
      }
    },
    {
      "cell_type": "code",
      "source": [
        "\"\"\"\n",
        "Compute the angle between the vectors v=[10,9,3] and w=[2,5,12].\n",
        "\"\"\"\n",
        "#from numpy import arccos, dot\n",
        "\n",
        "v = np.array([[10,9,3]])\n",
        "w = np.array([[2,5,12]])\n",
        "theta = np.arccos(np.dot(v,w.T)/(norm(v)*norm(w)))\n",
        "\n",
        "print(theta)"
      ],
      "metadata": {
        "colab": {
          "base_uri": "https://localhost:8080/"
        },
        "id": "LCkz-HPPDuvC",
        "outputId": "b5a1db24-0fb0-4833-c80a-a6c614f94867"
      },
      "execution_count": 11,
      "outputs": [
        {
          "output_type": "stream",
          "name": "stdout",
          "text": [
            "[[0.97992471]]\n"
          ]
        }
      ]
    },
    {
      "cell_type": "markdown",
      "source": [
        "### Cross product\n",
        "\n",
        "the cross product between two vectors, v\n",
        " and w\n",
        ", is written v×w\n",
        ". It is defined by\n",
        "\n",
        "```\n",
        "v×w=∥v∥2∥w∥2sin(θ)n\n",
        "```\n",
        "\n",
        "where θ is the angle between the v and w (which can be computed from the dot product) and n is a vector perpendicular to both v and w with unit length (i.e., the length is one)."
      ],
      "metadata": {
        "id": "ckNNwdw7Qnzq"
      }
    },
    {
      "cell_type": "code",
      "source": [
        "\"\"\"\n",
        "Given the vectors v=[0,2,0] and w=[3,0,0], use the Numpy function cross\n",
        "to compute the cross product of v and w.\n",
        "\"\"\"\n",
        "v = np.array([[0,2,0]])\n",
        "w = np.array([[3,0,0]])\n",
        "print(np.cross(v,w))"
      ],
      "metadata": {
        "colab": {
          "base_uri": "https://localhost:8080/"
        },
        "id": "dJ69e8qMPmye",
        "outputId": "2f1bed57-490c-4bae-9564-7786d00bbc58"
      },
      "execution_count": 10,
      "outputs": [
        {
          "output_type": "stream",
          "name": "stdout",
          "text": [
            "[[ 0  0 -6]]\n"
          ]
        }
      ]
    },
    {
      "cell_type": "code",
      "source": [],
      "metadata": {
        "id": "d60iRkaOP-a3"
      },
      "execution_count": null,
      "outputs": []
    },
    {
      "cell_type": "markdown",
      "source": [
        "### Linear independance\n",
        "\n",
        "A set is called linearly independent if no object in the set can be written as a linear combination of the other objects in the set. A set of vectors that is not linearly independent is linearly dependent."
      ],
      "metadata": {
        "id": "Jc3NqycOQxic"
      }
    },
    {
      "cell_type": "code",
      "source": [
        "\"\"\"\n",
        "Given the row vectors v=[0,3,2], w=[4,1,1], and u=[0,−2,0],\n",
        "write the vector x=[−8,−1,4] as a linear combination of v, w, and u.\n",
        "\"\"\"\n",
        "\n",
        "v = np.array([[0,3,2]])\n",
        "w = np.array([[4,1,1]])\n",
        "u = np.array([[0,-2,0]])\n",
        "\n",
        "x = 3*v -2*w + 4*u\n",
        "\n",
        "print(x)"
      ],
      "metadata": {
        "colab": {
          "base_uri": "https://localhost:8080/"
        },
        "id": "LqcG-odUQviV",
        "outputId": "5157fb41-9a01-4120-c298-c9e8a472891a"
      },
      "execution_count": 12,
      "outputs": [
        {
          "output_type": "stream",
          "name": "stdout",
          "text": [
            "[[-8 -1  4]]\n"
          ]
        }
      ]
    },
    {
      "cell_type": "markdown",
      "source": [
        "## Matrices"
      ],
      "metadata": {
        "id": "eYyI_Hs3WyWS"
      }
    },
    {
      "cell_type": "code",
      "source": [
        "\"\"\"\n",
        "Let the Python matrices P=[[1,7],[2,3],[5,0]] and Q=[[2,6,3,1],[1,2,3,4]].\n",
        "Compute the matrix product of P and Q. Show that the product of Q and P\n",
        "will produce an error.\n",
        "\"\"\"\n",
        "P = np.array([[1,7],[2,3],[5,0]])\n",
        "Q = np.array([[2,6,3,1],[1,2,3,4]])\n",
        "print('P: \\n',P)\n",
        "print('Q: \\n',Q)\n",
        "print('P.Q \\n',np.dot(P,Q))\n",
        "print(np.dot(Q,P))"
      ],
      "metadata": {
        "colab": {
          "base_uri": "https://localhost:8080/",
          "height": 435
        },
        "id": "gQNv6lNZWnMN",
        "outputId": "791a5d70-460f-477b-ad4e-003628d45e73"
      },
      "execution_count": 14,
      "outputs": [
        {
          "output_type": "stream",
          "name": "stdout",
          "text": [
            "P: \n",
            " [[1 7]\n",
            " [2 3]\n",
            " [5 0]]\n",
            "Q: \n",
            " [[2 6 3 1]\n",
            " [1 2 3 4]]\n",
            "P.Q \n",
            " [[ 9 20 24 29]\n",
            " [ 7 18 15 14]\n",
            " [10 30 15  5]]\n"
          ]
        },
        {
          "output_type": "error",
          "ename": "ValueError",
          "evalue": "ignored",
          "traceback": [
            "\u001b[0;31m---------------------------------------------------------------------------\u001b[0m",
            "\u001b[0;31mValueError\u001b[0m                                Traceback (most recent call last)",
            "\u001b[0;32m<ipython-input-14-c5cafeaff392>\u001b[0m in \u001b[0;36m<cell line: 11>\u001b[0;34m()\u001b[0m\n\u001b[1;32m      9\u001b[0m \u001b[0mprint\u001b[0m\u001b[0;34m(\u001b[0m\u001b[0;34m'Q: \\n'\u001b[0m\u001b[0;34m,\u001b[0m\u001b[0mQ\u001b[0m\u001b[0;34m)\u001b[0m\u001b[0;34m\u001b[0m\u001b[0;34m\u001b[0m\u001b[0m\n\u001b[1;32m     10\u001b[0m \u001b[0mprint\u001b[0m\u001b[0;34m(\u001b[0m\u001b[0;34m'P.Q \\n'\u001b[0m\u001b[0;34m,\u001b[0m\u001b[0mnp\u001b[0m\u001b[0;34m.\u001b[0m\u001b[0mdot\u001b[0m\u001b[0;34m(\u001b[0m\u001b[0mP\u001b[0m\u001b[0;34m,\u001b[0m\u001b[0mQ\u001b[0m\u001b[0;34m)\u001b[0m\u001b[0;34m)\u001b[0m\u001b[0;34m\u001b[0m\u001b[0;34m\u001b[0m\u001b[0m\n\u001b[0;32m---> 11\u001b[0;31m \u001b[0mprint\u001b[0m\u001b[0;34m(\u001b[0m\u001b[0mnp\u001b[0m\u001b[0;34m.\u001b[0m\u001b[0mdot\u001b[0m\u001b[0;34m(\u001b[0m\u001b[0mQ\u001b[0m\u001b[0;34m,\u001b[0m\u001b[0mP\u001b[0m\u001b[0;34m)\u001b[0m\u001b[0;34m)\u001b[0m\u001b[0;34m\u001b[0m\u001b[0;34m\u001b[0m\u001b[0m\n\u001b[0m",
            "\u001b[0;32m/usr/local/lib/python3.10/dist-packages/numpy/core/overrides.py\u001b[0m in \u001b[0;36mdot\u001b[0;34m(*args, **kwargs)\u001b[0m\n",
            "\u001b[0;31mValueError\u001b[0m: shapes (2,4) and (3,2) not aligned: 4 (dim 1) != 3 (dim 0)"
          ]
        }
      ]
    },
    {
      "cell_type": "code",
      "source": [
        "\"\"\"\n",
        "Use Python to find the determinant of the matrix\n",
        "M=[[0,2,1,3],[3,2,8,1],[1,0,0,3],[0,3,2,1]].\n",
        "Use the np.eye function to produce a 4×4 identity matrix, I.\n",
        "Multiply M by I to show that the result is M.\n",
        "\"\"\"\n",
        "from numpy.linalg import det\n",
        "\n",
        "M = np.array([[0,2,1,3],\n",
        "              [3,2,8,1],\n",
        "              [1,0,0,3],\n",
        "              [0,3,2,1]])\n",
        "print('M: \\n',M)\n",
        "print('Determinant: %.1f'%det(M))\n",
        "I = np.eye(4)\n",
        "print('4X4 I: \\n',I)\n",
        "print('MXI: \\n',np.dot(M,I))"
      ],
      "metadata": {
        "colab": {
          "base_uri": "https://localhost:8080/"
        },
        "id": "-yf4GU3ZXrTX",
        "outputId": "8b5ef612-bf13-4d83-f956-e1b8ddba8a7a"
      },
      "execution_count": 18,
      "outputs": [
        {
          "output_type": "stream",
          "name": "stdout",
          "text": [
            "M: \n",
            " [[0 2 1 3]\n",
            " [3 2 8 1]\n",
            " [1 0 0 3]\n",
            " [0 3 2 1]]\n",
            "Determinant: -38.0\n",
            "4X4 I: \n",
            " [[1. 0. 0. 0.]\n",
            " [0. 1. 0. 0.]\n",
            " [0. 0. 1. 0.]\n",
            " [0. 0. 0. 1.]]\n",
            "MXI: \n",
            " [[0. 2. 1. 3.]\n",
            " [3. 2. 8. 1.]\n",
            " [1. 0. 0. 3.]\n",
            " [0. 3. 2. 1.]]\n"
          ]
        }
      ]
    },
    {
      "cell_type": "code",
      "source": [
        "\"\"\"\n",
        "The matrix M (in the previous example) has a nonzero determinant.\n",
        "Compute the inverse of M. Show that the matrix P=[[0,1,0],[0,0,0],[1,0,1]]\n",
        "has a determinant value of 0 and therefore has no inverse.\n",
        "\"\"\"\n",
        "from numpy.linalg import inv\n",
        "print(\"Inv M:\\n\", inv(M))\n",
        "P = np.array([[0,1,0],\n",
        "              [0,0,0],\n",
        "              [1,0,1]])\n",
        "print('det(P):\\n',det(P))"
      ],
      "metadata": {
        "colab": {
          "base_uri": "https://localhost:8080/"
        },
        "id": "QM4qH114aOz3",
        "outputId": "ca1769c3-b669-4a5a-9c0b-dd07030f7b4e"
      },
      "execution_count": 19,
      "outputs": [
        {
          "output_type": "stream",
          "name": "stdout",
          "text": [
            "Inv M:\n",
            " [[-1.57894737 -0.07894737  1.23684211  1.10526316]\n",
            " [-0.63157895 -0.13157895  0.39473684  0.84210526]\n",
            " [ 0.68421053  0.18421053 -0.55263158 -0.57894737]\n",
            " [ 0.52631579  0.02631579 -0.07894737 -0.36842105]]\n",
            "det(P):\n",
            " 0.0\n"
          ]
        }
      ]
    },
    {
      "cell_type": "markdown",
      "source": [
        "### Condition number & Rank of matrix\n",
        "\n",
        "* A matrix that is close to being singular (i.e., the determinant is close to 0) is called ill-conditioned.\n",
        "* The condition number is a measure of how ill-conditioned a matrix is, and it can be computed using Numpy’s function cond from linalg. The higher the condition number, the closer the matrix is to being singular.\n",
        "* The rank. of an m×n matrix A is the number of linearly independent columns or rows of A, and is denoted by rank(A).\n",
        "* A matrix is called full rank. if rank (A)=min(m,n)."
      ],
      "metadata": {
        "id": "8mcKrw2Mg8Wk"
      }
    },
    {
      "cell_type": "code",
      "source": [
        "\"\"\"\n",
        "Matrix A=[[1,1,0],[0,1,0],[1,0,1]], compute the condition number and rank\n",
        "for this matrix. If y=[[1],[2],[1]], get the augmented matrix [A, y].\n",
        "\"\"\"\n",
        "from numpy.linalg import cond, matrix_rank\n",
        "\n",
        "A = np.array([[1,1,0],[0,1,0],[1,0,1]])\n",
        "y = np.array([[1],[2],[1]])\n",
        "\n",
        "print('Condition number:\\n',cond(A))\n",
        "print('Rank of A:\\n',matrix_rank(A))\n",
        "A_y = np.concatenate((A,y), axis = 1)\n",
        "print('Augmented matrix:\\n',A_y)"
      ],
      "metadata": {
        "colab": {
          "base_uri": "https://localhost:8080/"
        },
        "id": "i8oqCCqfghu-",
        "outputId": "650e38cb-0cc4-4682-f76c-0c5bf25d2a15"
      },
      "execution_count": 21,
      "outputs": [
        {
          "output_type": "stream",
          "name": "stdout",
          "text": [
            "Condition number:\n",
            " 4.048917339522305\n",
            "Rank of A:\n",
            " 3\n",
            "Augmented matrix:\n",
            " [[1 1 0 1]\n",
            " [0 1 0 2]\n",
            " [1 0 1 1]]\n"
          ]
        }
      ]
    },
    {
      "cell_type": "code",
      "source": [],
      "metadata": {
        "id": "k9ZNMqvbisLH"
      },
      "execution_count": null,
      "outputs": []
    }
  ]
}